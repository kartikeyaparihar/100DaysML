{
 "cells": [
  {
   "cell_type": "markdown",
   "id": "9f4f2989-5525-4f7b-8d24-bed446e54d22",
   "metadata": {},
   "source": [
    "# Retail - Amazon\n",
    "# Banking Finance\n",
    "# Tranport - ola\n",
    "# Manufacturing - tesla\n",
    "# Consumer INternet - Twitter"
   ]
  },
  {
   "cell_type": "markdown",
   "id": "b9dfaf9f-f71f-4de3-9f9d-9e4768cbffeb",
   "metadata": {},
   "source": []
  }
 ],
 "metadata": {
  "kernelspec": {
   "display_name": "Python 3 (ipykernel)",
   "language": "python",
   "name": "python3"
  },
  "language_info": {
   "codemirror_mode": {
    "name": "ipython",
    "version": 3
   },
   "file_extension": ".py",
   "mimetype": "text/x-python",
   "name": "python",
   "nbconvert_exporter": "python",
   "pygments_lexer": "ipython3",
   "version": "3.12.4"
  }
 },
 "nbformat": 4,
 "nbformat_minor": 5
}
