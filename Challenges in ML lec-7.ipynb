{
 "cells": [
  {
   "cell_type": "markdown",
   "id": "3eb5e69d-1de8-40a5-bfa0-c5d1558de6d8",
   "metadata": {},
   "source": [
    "# 1)Data Collection\n",
    "# 2)Insufficient data labelled\n",
    "# 3) non representative class\n",
    "# 4) Poor quality data \n",
    "# 5) Irrelevalent Features\n",
    "# 6) Overfitting\n",
    "# 7) underfitting\n",
    "# 8) software integration\n",
    "# 9) offline learning deployment\n",
    "# 10) Cost Involvement"
   ]
  },
  {
   "cell_type": "code",
   "execution_count": null,
   "id": "84637600-056f-46e8-9486-13295fe58e83",
   "metadata": {},
   "outputs": [],
   "source": []
  },
  {
   "cell_type": "code",
   "execution_count": null,
   "id": "2f7ee8e6-99f8-4608-900d-b405eefaf0b2",
   "metadata": {},
   "outputs": [],
   "source": []
  }
 ],
 "metadata": {
  "kernelspec": {
   "display_name": "Python 3 (ipykernel)",
   "language": "python",
   "name": "python3"
  },
  "language_info": {
   "codemirror_mode": {
    "name": "ipython",
    "version": 3
   },
   "file_extension": ".py",
   "mimetype": "text/x-python",
   "name": "python",
   "nbconvert_exporter": "python",
   "pygments_lexer": "ipython3",
   "version": "3.12.4"
  }
 },
 "nbformat": 4,
 "nbformat_minor": 5
}
