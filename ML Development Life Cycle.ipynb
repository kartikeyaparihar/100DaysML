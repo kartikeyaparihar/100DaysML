{
 "cells": [
  {
   "cell_type": "markdown",
   "id": "b2998883-c612-4c98-8fa0-2dff6484b70b",
   "metadata": {},
   "source": [
    "# 1)FRAME THE PROBLEM\n",
    "# 2)GATHERING DATA\n",
    "# 3) DATA PREPROCESSING\n",
    "# 4) EDA\n",
    "# 5) FEATURE ENGINEERING\n",
    "# 6) MODEL TRAINING EVALUATION\n",
    "# 7) MODEL DEPLOYMENT\n",
    "# 8) TESTING \n",
    "# 9) OPTIMIZE"
   ]
  },
  {
   "cell_type": "code",
   "execution_count": null,
   "id": "bd346d53-ebd8-4b9b-b7fc-b86eddc8d7be",
   "metadata": {},
   "outputs": [],
   "source": []
  }
 ],
 "metadata": {
  "kernelspec": {
   "display_name": "Python 3 (ipykernel)",
   "language": "python",
   "name": "python3"
  },
  "language_info": {
   "codemirror_mode": {
    "name": "ipython",
    "version": 3
   },
   "file_extension": ".py",
   "mimetype": "text/x-python",
   "name": "python",
   "nbconvert_exporter": "python",
   "pygments_lexer": "ipython3",
   "version": "3.12.4"
  }
 },
 "nbformat": 4,
 "nbformat_minor": 5
}
